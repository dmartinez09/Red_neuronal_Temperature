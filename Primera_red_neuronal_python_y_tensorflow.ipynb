{
  "nbformat": 4,
  "nbformat_minor": 0,
  "metadata": {
    "colab": {
      "provenance": [],
      "authorship_tag": "ABX9TyPBdFLXCuHWAk2VyugJKm3M",
      "include_colab_link": true
    },
    "kernelspec": {
      "name": "python3",
      "display_name": "Python 3"
    },
    "language_info": {
      "name": "python"
    }
  },
  "cells": [
    {
      "cell_type": "markdown",
      "metadata": {
        "id": "view-in-github",
        "colab_type": "text"
      },
      "source": [
        "<a href=\"https://colab.research.google.com/github/dmartinez09/Red_neuronal_Temperature/blob/main/Primera_red_neuronal_python_y_tensorflow.ipynb\" target=\"_parent\"><img src=\"https://colab.research.google.com/assets/colab-badge.svg\" alt=\"Open In Colab\"/></a>"
      ]
    },
    {
      "cell_type": "code",
      "execution_count": null,
      "metadata": {
        "id": "s9iEylS5ECQN"
      },
      "outputs": [],
      "source": [
        "import tensorflow as tf\n",
        "import numpy as np"
      ]
    },
    {
      "cell_type": "code",
      "source": [
        "celsius = np.array([-40, -10, 0, 8,15, 22, 38], dtype=float)\n",
        "fahrenheit = np.array([-40, 14, 32, 46, 59, 72, 100], dtype=float)"
      ],
      "metadata": {
        "id": "3OV3QWDLFmXQ"
      },
      "execution_count": null,
      "outputs": []
    },
    {
      "cell_type": "code",
      "source": [
        "#El modelo solo tiene 1 neurona\n",
        "#capa = tf.keras.layers.Dense(units=1, input_shape=[1])\n",
        "#modelo = tf.keras.Sequential([capa])\n",
        "\n",
        "#Voy a agregar 3 neuronas al modelo\n",
        "oculta1 = tf.keras.layers.Dense(units=3, input_shape=[1])\n",
        "oculta2 = tf.keras.layers.Dense(units=3)\n",
        "salida = tf.keras.layers.Dense(units=1)\n",
        "modelo = tf.keras.Sequential([oculta1, oculta2, salida])"
      ],
      "metadata": {
        "id": "U7TVoxGnGf9V"
      },
      "execution_count": null,
      "outputs": []
    },
    {
      "cell_type": "markdown",
      "source": [
        "Se usa Framework Keras, se ahorra un paso especificando las variables de salidas, se usan capas densas, aca hay solo dos neuronas.\n",
        "Se utiliza un modelo secuencial"
      ],
      "metadata": {
        "id": "Rmm27buYGuJP"
      }
    },
    {
      "cell_type": "code",
      "source": [
        "modelo.compile(\n",
        "    optimizer=tf.keras.optimizers.Adam(0.1),\n",
        "    loss=\"mean_squared_error\"\n",
        ")"
      ],
      "metadata": {
        "id": "vDp47ivFHLkC"
      },
      "execution_count": null,
      "outputs": []
    },
    {
      "cell_type": "markdown",
      "source": [
        "Propiedades, son dos el optimizador llamado Adam(Algoritmo) pesos y sesgos y la funcion de perdida. Adam se debe configurar con numeros pequeños.\n",
        "loss=\"mean_squared_error\": funcion de perdida, error cuadratico medio; considera que una poca cantidad de errores grandes es peor que una gran cantidad de errores pequeños"
      ],
      "metadata": {
        "id": "VnKjNUEgHMj5"
      }
    },
    {
      "cell_type": "code",
      "source": [
        "print(\"comenzando el entrenamieto...\")\n",
        "historial = modelo.fit(celsius, fahrenheit, epochs=1000, verbose=False)\n",
        "print(\"Modelo Entrenado!\")"
      ],
      "metadata": {
        "colab": {
          "base_uri": "https://localhost:8080/"
        },
        "id": "ngJNI7VFIVXd",
        "outputId": "6e8cd572-199f-4892-9550-a17291736bac"
      },
      "execution_count": null,
      "outputs": [
        {
          "output_type": "stream",
          "name": "stdout",
          "text": [
            "comenzando el entrenamieto...\n",
            "Modelo Entrenado!\n"
          ]
        }
      ]
    },
    {
      "cell_type": "markdown",
      "source": [
        "Vamos a entrenar el modelo: fit se encarga de esto y le indicamos cuantas vueltas quieres que lo intente, epochs recorre la cantidad de veces que el modelo buscara la mejor opcion.\n",
        "Verbose elimina la basura."
      ],
      "metadata": {
        "id": "JsIxKIEMJpoH"
      }
    },
    {
      "cell_type": "code",
      "source": [
        "import matplotlib.pyplot as plt\n",
        "plt.xlabel(\"# Epoca\")\n",
        "plt.ylabel(\"Magnitud de perdida\")\n",
        "plt.plot(historial.history[\"loss\"])"
      ],
      "metadata": {
        "colab": {
          "base_uri": "https://localhost:8080/",
          "height": 466
        },
        "id": "uh0A7vfoKXCs",
        "outputId": "ea7c1b2e-0c5d-4a90-89ae-1d38880f6d37"
      },
      "execution_count": null,
      "outputs": [
        {
          "output_type": "execute_result",
          "data": {
            "text/plain": [
              "[<matplotlib.lines.Line2D at 0x7f65444ab4f0>]"
            ]
          },
          "metadata": {},
          "execution_count": 6
        },
        {
          "output_type": "display_data",
          "data": {
            "text/plain": [
              "<Figure size 640x480 with 1 Axes>"
            ],
            "image/png": "[encoded data removed]"
          },
          "metadata": {}
        }
      ]
    },
    {
      "cell_type": "markdown",
      "source": [
        "Aca veremos los resultados de la funcion de perdida. en base a esto vamos detectando las vueltas que debe tener el modelo de aprendizaje epochs, podrian ser 500 vueltas..."
      ],
      "metadata": {
        "id": "7D3h9v4fKl2O"
      }
    },
    {
      "cell_type": "markdown",
      "source": [
        "**Probemos si la red neuronal funciona!**"
      ],
      "metadata": {
        "id": "f1v__2O6J53E"
      }
    },
    {
      "cell_type": "code",
      "source": [
        "print(\"Hagamos nuestra primera predicción\")\n",
        "resultado = modelo.predict([100.0])\n",
        "print(\"El resultado es \" + str(resultado)+ \"fahrenheit!\")"
      ],
      "metadata": {
        "colab": {
          "base_uri": "https://localhost:8080/"
        },
        "id": "6CSN7ZbdLJHf",
        "outputId": "60bac4bb-1f9e-41c8-fb9a-188cdaf21d20"
      },
      "execution_count": null,
      "outputs": [
        {
          "output_type": "stream",
          "name": "stdout",
          "text": [
            "Hagamos nuestra primera predicción\n",
            "1/1 [==============================] - 0s 107ms/step\n",
            "El resultado es [[211.74744]]fahrenheit!\n"
          ]
        }
      ]
    },
    {
      "cell_type": "markdown",
      "source": [
        "Comprobemos que datos se asignaron a la conexion y el sesgo"
      ],
      "metadata": {
        "id": "kIRIZN-nL2oa"
      }
    },
    {
      "cell_type": "code",
      "source": [
        "print(\"Variables internas del modelo\")\n",
        "#print(capa.get_weights()) sesgos con 1 neurona\n",
        "print(oculta1.get_weights())\n",
        "print(oculta2.get_weights())\n",
        "print(salida.get_weights())"
      ],
      "metadata": {
        "colab": {
          "base_uri": "https://localhost:8080/"
        },
        "id": "AaGvehh-L7hw",
        "outputId": "c2eaafbb-8d0b-4a81-c7e3-77d7a56f3822"
      },
      "execution_count": null,
      "outputs": [
        {
          "output_type": "stream",
          "name": "stdout",
          "text": [
            "Variables internas del modelo\n",
            "[array([[ 0.39663932,  0.05170216, -0.5872676 ]], dtype=float32), array([ 3.8945904, -3.2741954, -4.1113667], dtype=float32)]\n",
            "[array([[ 0.67341924,  0.6225365 , -1.2915179 ],\n",
            "       [ 0.29044664, -1.164116  ,  0.6199197 ],\n",
            "       [ 0.2722542 , -0.6178516 ,  1.061928  ]], dtype=float32), array([-0.7572409,  3.9770565, -3.909958 ], dtype=float32)]\n",
            "[array([[-0.08568905],\n",
            "       [ 0.5870798 ],\n",
            "       [-1.345993  ]], dtype=float32), array([3.8061264], dtype=float32)]\n"
          ]
        }
      ]
    },
    {
      "cell_type": "code",
      "source": [
        "print(\"Hagamos nuestra segunda predicción\")\n",
        "resultado = modelo.predict([20.0])\n",
        "print(\"El resultado es \" + str(resultado)+ \"fahrenheit!\")"
      ],
      "metadata": {
        "colab": {
          "base_uri": "https://localhost:8080/"
        },
        "id": "HL4JpuY-OZEY",
        "outputId": "2277716e-85fa-444f-cd31-271b3f826d56"
      },
      "execution_count": null,
      "outputs": [
        {
          "output_type": "stream",
          "name": "stdout",
          "text": [
            "Hagamos nuestra segunda predicción\n",
            "1/1 [==============================] - 0s 41ms/step\n",
            "El resultado es [[67.911514]]fahrenheit!\n"
          ]
        }
      ]
    },
    {
      "cell_type": "code",
      "source": [
        "print(\"Hagamos nuestra segunda predicción\")\n",
        "resultado = modelo.predict([0.0])\n",
        "print(\"El resultado es \" + str(resultado)+ \"fahrenheit!\")"
      ],
      "metadata": {
        "id": "kbxpZzXiRwE7",
        "outputId": "fe05bba7-2916-4e7c-d094-3a1135272e78",
        "colab": {
          "base_uri": "https://localhost:8080/"
        }
      },
      "execution_count": null,
      "outputs": [
        {
          "output_type": "stream",
          "name": "stdout",
          "text": [
            "Hagamos nuestra segunda predicción\n",
            "1/1 [==============================] - 0s 39ms/step\n",
            "El resultado es [[31.952526]]fahrenheit!\n"
          ]
        }
      ]
    }
  ]
}